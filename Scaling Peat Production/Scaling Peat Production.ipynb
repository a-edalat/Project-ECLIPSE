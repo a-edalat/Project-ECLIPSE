{
 "cells": [
  {
   "cell_type": "code",
   "execution_count": null,
   "metadata": {},
   "outputs": [],
   "source": [
    "import os\n",
    "import pandas as pd\n",
    "import openpyxl\n",
    "from copy import copy"
   ]
  },
  {
   "cell_type": "code",
   "execution_count": null,
   "metadata": {},
   "outputs": [],
   "source": [
    "# print('The openpyxl version is {}.'.format(openpyxl.__version__))\n",
    "# print('The pandas version is {}.'.format(pd.__version__))"
   ]
  },
  {
   "cell_type": "code",
   "execution_count": null,
   "metadata": {},
   "outputs": [],
   "source": [
    "os.chdir(r'C:\\Users\\edalata\\OneDrive - Origin Energy\\Peat\\Reserves and Assurance\\Reserve 2020\\Scaling Calculation\\Python')"
   ]
  },
  {
   "cell_type": "code",
   "execution_count": null,
   "metadata": {},
   "outputs": [],
   "source": [
    "result_export_table = 'COMP_EXP_MONTHLY_HOR_WELLS_EDITED'\n",
    "Excel_filename='TypeCurveLoader.xlsx'"
   ]
  },
  {
   "cell_type": "markdown",
   "metadata": {},
   "source": [
    "### Initialising pandas DataFrame"
   ]
  },
  {
   "cell_type": "code",
   "execution_count": null,
   "metadata": {},
   "outputs": [],
   "source": [
    "df = pd.read_table(result_export_table, header = 0)"
   ]
  },
  {
   "cell_type": "code",
   "execution_count": null,
   "metadata": {},
   "outputs": [],
   "source": [
    "df.columns = [x.strip() for x in df.columns]\n",
    "df.rename(columns={'Unnamed: 0':'Dates'}, inplace=True)\n",
    "df.index = df.loc[:]['Dates']\n",
    "df.drop(['Dates'], axis = 1, inplace=True)"
   ]
  },
  {
   "cell_type": "code",
   "execution_count": null,
   "metadata": {},
   "outputs": [],
   "source": [
    "properties = [x for x in df.iloc[0]]\n",
    "current_clmns = [x for x in df.columns]\n",
    "nw_clmns=[]\n",
    "for i in range(len(properties)):\n",
    "        if current_clmns[i][-2:] == \".1\":\n",
    "            current_clmns[i] = current_clmns[i][:-2]\n",
    "        nw_clmns.append(current_clmns[i] + \"_\" + properties[i])\n",
    "df.columns = nw_clmns"
   ]
  },
  {
   "cell_type": "code",
   "execution_count": null,
   "metadata": {},
   "outputs": [],
   "source": [
    "df = df.iloc[1:]"
   ]
  },
  {
   "cell_type": "code",
   "execution_count": null,
   "metadata": {},
   "outputs": [],
   "source": [
    "# created a list of wells by removing _GPR from the tale\n",
    "wells = [x[:-4] for x in df.columns[:int(len(df.columns)/2)]]"
   ]
  },
  {
   "cell_type": "markdown",
   "metadata": {},
   "source": [
    "### Initialising openPyXL"
   ]
  },
  {
   "cell_type": "code",
   "execution_count": null,
   "metadata": {},
   "outputs": [],
   "source": [
    "wb = openpyxl.load_workbook(Excel_filename)\n",
    "sheet = wb.active"
   ]
  },
  {
   "cell_type": "markdown",
   "metadata": {},
   "source": [
    "### Creating a dictionray to covert well names from ENV to current GIS"
   ]
  },
  {
   "cell_type": "code",
   "execution_count": null,
   "metadata": {},
   "outputs": [],
   "source": [
    "well_name_convertor = {}\n",
    "with open('Lin2GISnameConverter.txt', 'r') as file:\n",
    "    for line in file:\n",
    "        line_data = line.split(',')\n",
    "        well_name_convertor[line_data[0]] = line_data[1][:-1]"
   ]
  },
  {
   "cell_type": "markdown",
   "metadata": {},
   "source": [
    "### Functions to iterate over, write and format data"
   ]
  },
  {
   "cell_type": "code",
   "execution_count": null,
   "metadata": {},
   "outputs": [],
   "source": [
    "def writing_wells(well, well_index):\n",
    "    strt_clmn = 2\n",
    "    if well_index == 0:\n",
    "        sheet.cell(row=1 , column=strt_clmn + well_index).value = well_name_convertor[well]\n",
    "        sheet.cell(row=2 , column=strt_clmn + well_index).value = '1'\n",
    "        sheet.cell(row=4 , column=strt_clmn + well_index).value = 'Initial drawdown 200 psia, then 0.75 psia per day.'\n",
    "#         sheet.cell(row=5 , column=strt_clmn + well_index).value = 'Surface-In seam horizontal , 1500 m lateral length.'\n",
    "#         sheet.cell(row=6 , column=strt_clmn + well_index).value = 'Fibreglass liner'\n",
    "#         sheet.cell(row=7 , column=strt_clmn + well_index).value = '750 m .'\n",
    "    else:\n",
    "        sheet.cell(row=1 , column=strt_clmn + (well_index * 6)).value = well_name_convertor[well]\n",
    "        sheet.cell(row=2 , column=strt_clmn + (well_index * 6)).value = '1'\n",
    "        sheet.cell(row=4 , column=strt_clmn + (well_index * 6)).value = 'Initial drawdown 200 psia, then 0.75 psia per day.'\n",
    "#         sheet.cell(row=5 , column=strt_clmn + (well_index * 6)).value = 'Surface-In seam horizontal , 1500 m lateral length.'\n",
    "#         sheet.cell(row=6 , column=strt_clmn + (well_index * 6)).value = 'Fibreglass liner'\n",
    "#         sheet.cell(row=7 , column=strt_clmn + (well_index * 6)).value = '750 m .'\n",
    "    return None"
   ]
  },
  {
   "cell_type": "code",
   "execution_count": null,
   "metadata": {},
   "outputs": [],
   "source": [
    "def writing_rates(well, well_index):\n",
    "    strt_row = 13\n",
    "    strt_clmn = 4\n",
    "    rates = [well + '_GPR', well + '_WPR']\n",
    "    \n",
    "    for index,item in enumerate(rates):\n",
    "        for i,v in enumerate([x for x in df.loc[:][item]]):\n",
    "            sheet.cell(row=strt_row+i , column=strt_clmn + (well_index*6) + index).value = v\n",
    "    return None"
   ]
  },
  {
   "cell_type": "code",
   "execution_count": null,
   "metadata": {},
   "outputs": [],
   "source": [
    "def header_style(well_index):\n",
    "    strt_clmn = 2\n",
    "    \n",
    "    for i in range(2):\n",
    "        for j in range(6):\n",
    "            if well_index > 0:\n",
    "                master = sheet.cell(row=11 + i, column=strt_clmn + j)\n",
    "                slave = sheet.cell(row=11 + i, column=strt_clmn + (well_index*6) + j)\n",
    "            \n",
    "                slave.value  = copy(master.value)\n",
    "                slave.font   = copy(master.font)\n",
    "                slave.border = copy(master.border)\n",
    "                slave.fill   = copy(master.fill)\n",
    "    return None"
   ]
  },
  {
   "cell_type": "markdown",
   "metadata": {},
   "source": [
    "### Calling functions"
   ]
  },
  {
   "cell_type": "code",
   "execution_count": null,
   "metadata": {},
   "outputs": [],
   "source": [
    "for well_index, well in enumerate(wells):\n",
    "    writing_wells(well, well_index)\n",
    "    writing_rates(well, well_index)\n",
    "    header_style(well_index)"
   ]
  },
  {
   "cell_type": "code",
   "execution_count": null,
   "metadata": {},
   "outputs": [],
   "source": [
    "wb.save(Excel_filename)\n",
    "print('workbook successfully saved.')"
   ]
  }
 ],
 "metadata": {
  "kernelspec": {
   "display_name": "Python 3",
   "language": "python",
   "name": "python3"
  },
  "language_info": {
   "codemirror_mode": {
    "name": "ipython",
    "version": 3
   },
   "file_extension": ".py",
   "mimetype": "text/x-python",
   "name": "python",
   "nbconvert_exporter": "python",
   "pygments_lexer": "ipython3",
   "version": "3.7.4"
  }
 },
 "nbformat": 4,
 "nbformat_minor": 2
}
